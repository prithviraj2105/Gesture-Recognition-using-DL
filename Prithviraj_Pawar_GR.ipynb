{
 "cells": [
  {
   "cell_type": "markdown",
   "metadata": {},
   "source": [
    "# Gesture Recognition\n",
    "In this group project, we are going to build a model that will be able to predict the 5 gestures correctly. This will be used to develop a cool feature in the smart-TV that can recognise five different gestures performed by the user which will help users control the TV without using a remote.\n",
    "\n",
    "The gestures are continuously monitored by the webcam mounted on the TV. Each gesture corresponds to a specific command:\n",
    "Thumbs up:  Increase the volume\n",
    "Thumbs down: Decrease the volume\n",
    "Left swipe: 'Jump' backwards 10 seconds\n",
    "Right swipe: 'Jump' forward 10 seconds  \n",
    "Stop: Pause the movie\n",
    " \n",
    "Each video is a sequence of 30 frames (or images). The training data consists of a few hundred videos categorised into one of the five classes. Each video (typically 2-3 seconds long) is divided into a sequence of 30 frames(images). These videos have been recorded by various people performing one of the five gestures in front of a webcam - similar to what the smart TV will use.\n",
    "\n",
    "## Dataset\n",
    "The data is in a zip file. The zip file contains a 'train' and a 'val' folder with two CSV files for the two folders. These folders are in turn divided into subfolders where each subfolder represents a video of a particular gesture. Each subfolder, i.e. a video, contains 30 frames (or images). Note that all images in a particular video subfolder have the same dimensions but different videos may have different dimensions. Specifically, videos have two types of dimensions - either 360x360 or 120x160 (depending on the webcam used to record the videos). Hence, you will need to do some pre-processing to standardise the videos. \n",
    " \n",
    "Each row of the CSV file represents one video and contains three main pieces of information - the name of the subfolder containing the 30 images of the video, the name of the gesture and the numeric label (between 0-4) of the video."
   ]
  },
  {
   "cell_type": "code",
   "execution_count": 71,
   "metadata": {},
   "outputs": [],
   "source": [
    "import datetime\n",
    "import os\n",
    "import numpy as np\n",
    "import matplotlib.pyplot as plt\n",
    "\n",
    "from imageio.v2 import imread\n",
    "# from scipy.misc import imresize\n",
    "\n",
    "import warnings\n",
    "warnings.simplefilter('ignore')"
   ]
  },
  {
   "cell_type": "markdown",
   "metadata": {},
   "source": [
    "We set the random seed so that the results don't vary drastically."
   ]
  },
  {
   "cell_type": "code",
   "execution_count": 72,
   "metadata": {},
   "outputs": [],
   "source": [
    "np.random.seed(30)\n",
    "import random as rn\n",
    "rn.seed(30)\n",
    "from keras import backend as K\n",
    "import tensorflow as tf\n",
    "tf.random.set_seed(30)"
   ]
  },
  {
   "cell_type": "markdown",
   "metadata": {},
   "source": [
    "## Generator\n",
    "In the generator, we are going to preprocess like re-sizing and cropping the images as we have images of 2 different dimensions as well as create a batch of video frames."
   ]
  },
  {
   "cell_type": "code",
   "execution_count": 73,
   "metadata": {},
   "outputs": [],
   "source": [
    "# Define a function to crop an image to a square shape\n",
    "def crop_to_square(image):\n",
    "    height, width, _ = image.shape\n",
    "    \n",
    "    # Calculate the size of the square crop\n",
    "    crop_size = min(width, height)\n",
    "    \n",
    "    # Calculate the coordinates for the center of the image\n",
    "    center_x = width // 2\n",
    "    center_y = height // 2\n",
    "    \n",
    "    # Calculate the top-left corner of the square crop\n",
    "    left = center_x - crop_size // 2\n",
    "    top = center_y - crop_size // 2\n",
    "    \n",
    "    # Calculate the bottom-right corner of the square crop\n",
    "    right = left + crop_size\n",
    "    bottom = top + crop_size\n",
    "    \n",
    "    # Crop the image to the calculated square\n",
    "    cropped_image = image[top:bottom, left:right]\n",
    "    \n",
    "    return cropped_image\n",
    "\n",
    "# Define the generator function\n",
    "def generator(source_path, folder_list, batch_size): #, img_height, img_width, img_idx):\n",
    "    \n",
    "    while True:\n",
    "        # Shuffle the folder list\n",
    "        t = np.random.permutation(folder_list)\n",
    "        \n",
    "        # Calculate the number of full batches\n",
    "        num_batches = len(t) // batch_size          \n",
    "#         print( 'num_batches = ', num_batches)\n",
    "\n",
    "        for batch in range(num_batches):\n",
    "            \n",
    "#             plt.figure(figsize=(20,5))\n",
    "            \n",
    "            batch_data = np.zeros((batch_size, num_of_frames, img_height, img_width, 3))\n",
    "            batch_labels = np.zeros((batch_size, num_of_classes))   #batch_labels is the one hot representation of the output\n",
    "\n",
    "            for folder in range(batch_size):\n",
    "                \n",
    "                imgs = os.listdir(source_path + '/' + t[folder + (batch * batch_size)].strip().split(';')[0])\n",
    "                \n",
    "                for idx, item in enumerate(img_idx):\n",
    "                    # Construct image path\n",
    "                    image_path = source_path + '/' + t[folder + (batch * batch_size)].strip().split(';')[0] + '/' + imgs[item]\n",
    "                    \n",
    "                    # Read and decode the image\n",
    "                    image = tf.image.decode_jpeg(tf.io.read_file(image_path))\n",
    "                    \n",
    "                    # Plot the image before cropping and resizing\n",
    "#                     plt.figure()\n",
    "#                     plt.subplot(2, num_of_frames, idx+1)\n",
    "#                     plt.imshow(image)\n",
    "#                     plt.title('original')\n",
    "                    \n",
    "                    # Crop the image to a square shape\n",
    "                    image = crop_to_square(image)\n",
    "                    \n",
    "                    # Resize the cropped image to (img_height, img_width)\n",
    "                    image = tf.image.resize(image, size=(img_height, img_width))\n",
    "                    \n",
    "                    # Normalize the resized image\n",
    "                    normalized_image = image / 255.0\n",
    "                    \n",
    "                    # Plot the image after cropping and resizing\n",
    "#                     plt.subplot(2, num_of_frames, idx+num_of_frames+1)\n",
    "#                     plt.imshow(normalized_image)\n",
    "#                     plt.title('modified')\n",
    "                    \n",
    "                    # Store the normalized image in batch_data\n",
    "                    batch_data[folder, idx] = normalized_image\n",
    "                \n",
    "                # Assign labels for each batch\n",
    "                batch_labels[folder, int(t[folder + (batch * batch_size)].strip().split(';')[2])] = 1\n",
    "            \n",
    "            plt.show()  # Display the plots\n",
    "            # Yield the batch_data and batch_labels\n",
    "            yield batch_data, batch_labels\n",
    "        \n",
    "        # Calculate the start index for the remaining data points\n",
    "        start_index = num_batches * batch_size\n",
    "        \n",
    "        # Calculate the number of remaining data points\n",
    "        remaining_size = len(t) - start_index\n",
    "#         print( 'remaining_size = ', remaining_size)\n",
    "        \n",
    "#         plt.figure(figsize=(20,5))\n",
    "\n",
    "        # Check if there are remaining data points\n",
    "        if remaining_size > 0:\n",
    "            # Initialize arrays for the partial batch\n",
    "            partial_batch_data = np.zeros((remaining_size, len(img_idx), img_height, img_width, 3))\n",
    "            partial_batch_labels = np.zeros((remaining_size, num_of_classes))\n",
    "            \n",
    "            # Process the remaining data points\n",
    "            for folder in range(remaining_size):\n",
    "                # Calculate the folder index\n",
    "                folder_index = start_index + folder\n",
    "                \n",
    "                # Construct the folder path\n",
    "                folder_path = source_path + '/' + t[folder_index].strip().split(';')[0]\n",
    "                \n",
    "                # Process images in the folder\n",
    "                imgs = os.listdir(folder_path)\n",
    "                for idx, item in enumerate(img_idx):\n",
    "                    # Read the image\n",
    "                    image_path = folder_path + '/' + imgs[item]\n",
    "                    # Read and decode the image\n",
    "                    image = tf.image.decode_jpeg(tf.io.read_file(image_path))\n",
    "                    \n",
    "                    # Plot the image before cropping and resizing\n",
    "#                     plt.figure()\n",
    "#                     plt.subplot(2, num_of_frames, idx+1)\n",
    "#                     plt.imshow(image)\n",
    "#                     plt.title('original')\n",
    "                    \n",
    "                    # Crop the image to a square shape\n",
    "                    image = crop_to_square(image)\n",
    "                    \n",
    "                    # Resize the cropped image to (img_height, img_width)\n",
    "                    image = tf.image.resize(image, size=(img_height, img_width))\n",
    "                    \n",
    "                    # Normalize the resized image\n",
    "                    normalized_image = image / 255.0\n",
    "                    \n",
    "                    # Plot the image after cropping and resizing\n",
    "#                     plt.subplot(2, num_of_frames, idx+num_of_frames+1)\n",
    "#                     plt.imshow(normalized_image)\n",
    "#                     plt.title('modified')\n",
    "\n",
    "                    # Store the normalized image in partial_batch_data\n",
    "                    partial_batch_data[folder, idx] = normalized_image\n",
    "               \n",
    "                # Assign labels for each batch\n",
    "                partial_batch_labels[folder, int(t[folder_index].strip().split(';')[2])] = 1\n",
    "                \n",
    "            plt.show()  # Display the plots\n",
    "            # Yield the remaining partial batch data and labels\n",
    "            yield partial_batch_data, partial_batch_labels\n",
    "        "
   ]
  },
  {
   "cell_type": "code",
   "execution_count": 74,
   "metadata": {
    "scrolled": true
   },
   "outputs": [],
   "source": [
    "# test_gen = generator(train_path, train_doc, batch_size)"
   ]
  },
  {
   "cell_type": "code",
   "execution_count": 75,
   "metadata": {},
   "outputs": [],
   "source": [
    "# d = next(test_gen)[0]"
   ]
  },
  {
   "cell_type": "markdown",
   "metadata": {},
   "source": [
    "Module for choosing data size."
   ]
  },
  {
   "cell_type": "code",
   "execution_count": 76,
   "metadata": {},
   "outputs": [],
   "source": [
    "# ablation\n",
    "def get_data(ablation=None):\n",
    "    train_doc = np.random.permutation(open('train.csv').readlines())\n",
    "    val_doc = np.random.permutation(open('val.csv').readlines())\n",
    "    \n",
    "    train_data = []\n",
    "    val_data = []\n",
    "    # when ablation is None pass full training and val data\n",
    "    if ablation is not None:\n",
    "        # iterating train doc\n",
    "        num_paths_to_use = int(len(train_doc) * ablation / 100)\n",
    "        train_data = train_doc[:num_paths_to_use]\n",
    "        \n",
    "        # iterating val doc\n",
    "        num_paths_to_use = int(len(val_doc) * ablation / 100)\n",
    "        val_data = val_doc[:num_paths_to_use]\n",
    "    else:\n",
    "        train_data, val_data = train_doc, val_doc\n",
    "    return train_data, val_data"
   ]
  },
  {
   "cell_type": "markdown",
   "metadata": {},
   "source": [
    "Module for plotting graphs for loss and accuracies."
   ]
  },
  {
   "cell_type": "code",
   "execution_count": 77,
   "metadata": {},
   "outputs": [],
   "source": [
    "def plotModelHistory(h):\n",
    "    fig, ax = plt.subplots(1, 2, figsize=(15,4))\n",
    "    ax[0].plot(h.history['loss'])   \n",
    "    ax[0].plot(h.history['val_loss'])\n",
    "    ax[0].legend(['loss','val_loss'])\n",
    "    ax[0].title.set_text(\"Train loss vs Validation loss\")\n",
    "\n",
    "    ax[1].plot(h.history['categorical_accuracy'])   \n",
    "    ax[1].plot(h.history['val_categorical_accuracy'])\n",
    "    ax[1].legend(['categorical_accuracy','val_categorical_accuracy'])\n",
    "    ax[1].title.set_text(\"Train accuracy vs Validation accuracy\")\n",
    "    plt.show()\n",
    "\n",
    "#     print(\"Max. Training Accuracy\", max(h.history['categorical_accuracy']))\n",
    "#     print(\"Max. Validaiton Accuracy\", max(h.history['val_categorical_accuracy']))\n",
    "    \n",
    "    final_training_accuracy = history.history['categorical_accuracy'][-1]  # Last value in the accuracy list\n",
    "    final_validation_accuracy = history.history['val_categorical_accuracy'][-1]  # Last value in the val_accuracy list\n",
    "\n",
    "    print(f\"Training Accuracy: {final_training_accuracy:.4f}\")\n",
    "    print(f\"Validation Accuracy: {final_validation_accuracy:.4f}\")"
   ]
  },
  {
   "cell_type": "markdown",
   "metadata": {},
   "source": [
    "## Model\n",
    "\n",
    "For analysing videos using neural networks, two types of architectures are used commonly. One is the standard CNN + RNN architecture in which you pass the images of a video through a CNN which extracts a feature vector for each image, and then pass the sequence of these feature vectors through an RNN.\n",
    "\n",
    "The other popular architecture used to process videos is a natural extension of CNNs - a 3D convolutional network. We will try both architectures and choose the best for final model.\n",
    "\n",
    "Here you make the model using different functionalities that Keras provides. Remember to use `Conv3D` and `MaxPooling3D` and not `Conv2D` and `Maxpooling2D` for a 3D convolution model. You would want to use `TimeDistributed` while building a Conv2D + RNN model. Also remember that the last layer is the softmax. Design the network in such a way that the model is able to give good accuracy on the least number of parameters so that it can fit in the memory of the webcam."
   ]
  },
  {
   "cell_type": "code",
   "execution_count": 78,
   "metadata": {},
   "outputs": [],
   "source": [
    "from keras.models import Sequential, Model\n",
    "from keras.layers import Dense, GRU, Flatten, TimeDistributed, Flatten, Dropout, BatchNormalization, Activation\n",
    "from keras.layers import Conv3D, MaxPooling3D\n",
    "from keras.callbacks import ModelCheckpoint, ReduceLROnPlateau\n",
    "from keras import optimizers\n",
    "from keras.layers import LSTM"
   ]
  },
  {
   "cell_type": "markdown",
   "metadata": {},
   "source": [
    "##### Parameter Initialization"
   ]
  },
  {
   "cell_type": "code",
   "execution_count": 79,
   "metadata": {},
   "outputs": [
    {
     "name": "stdout",
     "output_type": "stream",
     "text": [
      "# epochs = 20\n"
     ]
    }
   ],
   "source": [
    "# Initialize parameters\n",
    "curr_dt_time = datetime.datetime.now()\n",
    "\n",
    "train_path = 'train'\n",
    "val_path = 'val'\n",
    "\n",
    "num_of_classes = 5 #number of output classes. There are 5 gestures to be recognised.\n",
    "\n",
    "#total images available per video in dataset\n",
    "total_images = 30\n",
    "\n",
    "# number of epochs\n",
    "num_epochs = 20 \n",
    "print ('# epochs =', num_epochs)"
   ]
  },
  {
   "cell_type": "code",
   "execution_count": 80,
   "metadata": {
    "scrolled": true
   },
   "outputs": [
    {
     "name": "stdout",
     "output_type": "stream",
     "text": [
      "# training sequences = 663\n",
      "# validation sequences = 100\n"
     ]
    }
   ],
   "source": [
    "# Using abalation \n",
    "# train_doc, val_doc = get_data(ablation=20) #Experiment #1 & 2\n",
    "\n",
    "#Using full data \n",
    "train_doc, val_doc = get_data(ablation=None) #Experiment #3 & above\n",
    "\n",
    "num_train_sequences = len(train_doc)\n",
    "print('# training sequences =', num_train_sequences)\n",
    "num_val_sequences = len(val_doc)\n",
    "print('# validation sequences =', num_val_sequences)"
   ]
  },
  {
   "cell_type": "code",
   "execution_count": 81,
   "metadata": {},
   "outputs": [
    {
     "name": "stdout",
     "output_type": "stream",
     "text": [
      "batch_size = 32\n",
      "image = 80 x 80\n",
      "num_of_frames = 15\n",
      "[ 0  2  4  6  8 10 12 15 17 19 21 23 25 27 29]\n"
     ]
    }
   ],
   "source": [
    "# number of videos in a batch fed to model\n",
    "# batch_size = 100  \n",
    "# batch_size = 20 \n",
    "# batch_size = 40 \n",
    "batch_size = 32\n",
    "print('batch_size =', batch_size)\n",
    "\n",
    "# image dimensions\n",
    "# img_height, img_width = 120, 120\n",
    "# img_height, img_width = 100, 100 \n",
    "img_height, img_width = 80, 80\n",
    "print('image = ' + str(img_height) + ' x ' + str(img_width))\n",
    "\n",
    "#number of images/frames used per video\n",
    "# num_of_frames = 30\n",
    "# num_of_frames = 20 \n",
    "num_of_frames = 15\n",
    "print('num_of_frames =', num_of_frames)\n",
    "\n",
    "#creating a list of image numbers to be used for a video\n",
    "img_idx = np.round(np.linspace(0, total_images-1, num_of_frames)).astype(int) #[0,1,2,3,4,5,6,7,8,9,10]\n",
    "print(img_idx)\n",
    "\n",
    "#input shape for the model's 1st layer\n",
    "input_shape = (num_of_frames, img_height, img_width, 3)"
   ]
  },
  {
   "cell_type": "markdown",
   "metadata": {},
   "source": [
    "Let us create the `train_generator` and the `val_generator` which will be used in `.fit_generator`."
   ]
  },
  {
   "cell_type": "code",
   "execution_count": 82,
   "metadata": {},
   "outputs": [],
   "source": [
    "train_generator = generator(train_path, train_doc, batch_size)\n",
    "val_generator = generator(val_path, val_doc, batch_size)"
   ]
  },
  {
   "cell_type": "code",
   "execution_count": 83,
   "metadata": {},
   "outputs": [],
   "source": [
    "#code to save model in models folder\n",
    "model_name = 'models/' + 'model_init' + '_' + str(curr_dt_time).replace(' ','-').replace(':','_') + '/'\n",
    "    \n",
    "if not os.path.exists(model_name):\n",
    "    os.mkdir(model_name)\n",
    "        \n",
    "filepath = model_name + 'model-{epoch:05d}-{loss:.5f}-{categorical_accuracy:.5f}-{val_loss:.5f}-{val_categorical_accuracy:.5f}.keras'\n",
    "\n",
    "checkpoint = ModelCheckpoint(filepath, \n",
    "                             monitor='val_loss', \n",
    "                             mode='auto', \n",
    "                             verbose=1, \n",
    "                             save_best_only=False, \n",
    "                             save_weights_only=False,\n",
    "                             save_freq = 'epoch')\n",
    "\n",
    "#adjust LR if loss is not changing\n",
    "LR = ReduceLROnPlateau(monitor='val_loss', \n",
    "                       factor=0.1, \n",
    "                       patience=5, \n",
    "                       min_lr=0.001, \n",
    "                       verbose=1) # write the REducelronplateau code here\n",
    "# LR = ReduceLROnPlateau(\n",
    "#     monitor='val_loss',\n",
    "#     factor=0.1,  # Factor to reduce learning rate by\n",
    "#     patience=3,  # Number of epochs without improvement before reducing learning rate\n",
    "#     min_lr=1e-6,\n",
    "#     verbose=1\n",
    "# )\n",
    "\n",
    "callbacks_list = [checkpoint, LR]"
   ]
  },
  {
   "cell_type": "markdown",
   "metadata": {},
   "source": [
    "The `steps_per_epoch` and `validation_steps` are used by `fit_generator` to decide the number of next() calls it need to make."
   ]
  },
  {
   "cell_type": "code",
   "execution_count": 84,
   "metadata": {},
   "outputs": [],
   "source": [
    "#adjust the steps as per the batchsize\n",
    "if (num_train_sequences%batch_size) == 0:\n",
    "    steps_per_epoch = int(num_train_sequences/batch_size)\n",
    "else:\n",
    "    steps_per_epoch = (num_train_sequences//batch_size) + 1\n",
    "\n",
    "if (num_val_sequences%batch_size) == 0:\n",
    "    validation_steps = int(num_val_sequences/batch_size)\n",
    "else:\n",
    "    validation_steps = (num_val_sequences//batch_size) + 1"
   ]
  },
  {
   "cell_type": "markdown",
   "metadata": {},
   "source": [
    "### Experiment #1\n",
    "\n",
    "\n",
    "- First we will try `Conv3D` model architecture because they are less complex and have comparatively less number of parameters than CNN-RNN.\n",
    "- We will train with small amount of data using ablation to see if the model learns\n",
    "- Since the data contains different size of images, some are `120 x 180` and some are`360 x 360`, we will resize all the images to size `120 x 120` using custiomized data generator function and see how the model performs.\n",
    "- To start with we will use batch_size of `100` and `20` `epochs`.\n",
    "- To start with we will use all the `30` frames available per video."
   ]
  },
  {
   "cell_type": "code",
   "execution_count": 85,
   "metadata": {},
   "outputs": [],
   "source": [
    "# # Create a Sequential model\n",
    "# model = Sequential()\n",
    "\n",
    "# model.add(Conv3D(filters=16, kernel_size=(3, 3, 3), padding='same', activation='relu', input_shape=input_shape))\n",
    "# model.add(MaxPooling3D(pool_size=(2, 2, 2)))\n",
    "\n",
    "# model.add(Conv3D(filters=32, kernel_size=(3, 3, 3), padding='same', activation='relu'))\n",
    "# model.add(MaxPooling3D(pool_size=(2, 2, 2)))\n",
    "\n",
    "# model.add(Flatten())\n",
    "\n",
    "# model.add(Dense(units=32, activation='relu'))\n",
    "\n",
    "# model.add(Dense(units=num_of_classes, activation='softmax'))\n",
    "\n",
    "# #compile model\n",
    "# model.compile(optimizer='adam', loss='categorical_crossentropy', metrics=['categorical_accuracy'])\n",
    "# print (model.summary())"
   ]
  },
  {
   "cell_type": "markdown",
   "metadata": {},
   "source": [
    "##### Observations\n",
    "\n",
    "- `Out of memory error`."
   ]
  },
  {
   "cell_type": "markdown",
   "metadata": {},
   "source": [
    "##### Decision\n",
    "\n",
    "- The device is not able to handle the large data size in a batch which depends on the `no_of_images` per video, `size` of images and `batch_size`.\n",
    "- We will reduce `batch_size` to `32`, `no_of_images` to `15` and image size to `80 x 80` and see if the memory issue resolves.\n",
    "- The strategy is to keep the above parameters minimum and if the memory issue is resolved then if required these parameters can be increased step by step to increase the performance."
   ]
  },
  {
   "cell_type": "markdown",
   "metadata": {},
   "source": [
    "### Experiment #2\n",
    "\n",
    "- Using `batch_size` = `32`, `no_of_images` = `15`, and image size to `80 x 80` while rest remains the same."
   ]
  },
  {
   "cell_type": "code",
   "execution_count": 86,
   "metadata": {},
   "outputs": [],
   "source": [
    "# Create a Sequential model\n",
    "# model = Sequential()\n",
    "\n",
    "# model.add(Conv3D(filters=16, kernel_size=(3, 3, 3), padding='same', activation='relu', input_shape=input_shape))\n",
    "# model.add(MaxPooling3D(pool_size=(2, 2, 2)))\n",
    "\n",
    "# model.add(Conv3D(filters=32, kernel_size=(3, 3, 3), padding='same', activation='relu'))\n",
    "# model.add(MaxPooling3D(pool_size=(2, 2, 2)))\n",
    "\n",
    "# model.add(Flatten())\n",
    "\n",
    "# model.add(Dense(units=32, activation='relu'))\n",
    "\n",
    "# model.add(Dense(units=num_of_classes, activation='softmax'))\n",
    "\n",
    "# #compile model\n",
    "# model.compile(optimizer='adam', loss='categorical_crossentropy', metrics=['categorical_accuracy'])\n",
    "# print (model.summary())"
   ]
  },
  {
   "cell_type": "markdown",
   "metadata": {},
   "source": [
    "##### Observations\n",
    "\n",
    "- No memory issues.\n",
    "- `Training Accuracy: 1.0000` and `Validation Accuracy: 0.4500`\n",
    "- The model is learning but overfitting."
   ]
  },
  {
   "cell_type": "markdown",
   "metadata": {},
   "source": [
    "##### Decision\n",
    "\n",
    "- The model is learning but overfitting and training accuracy 1 indicates model memorizing train data due to small train data\n",
    "- Use full training data.\n"
   ]
  },
  {
   "cell_type": "markdown",
   "metadata": {},
   "source": [
    "### Experiment #3\n",
    "\n",
    "- Using full training data."
   ]
  },
  {
   "cell_type": "code",
   "execution_count": 87,
   "metadata": {},
   "outputs": [],
   "source": [
    "# # Create a Sequential model\n",
    "# model = Sequential()\n",
    "\n",
    "# model.add(Conv3D(filters=16, kernel_size=(3, 3, 3), padding='same', activation='relu', input_shape=input_shape))\n",
    "# model.add(MaxPooling3D(pool_size=(2, 2, 2)))\n",
    "\n",
    "# model.add(Conv3D(filters=32, kernel_size=(3, 3, 3), padding='same', activation='relu'))\n",
    "# model.add(MaxPooling3D(pool_size=(2, 2, 2)))\n",
    "\n",
    "# model.add(Flatten())\n",
    "\n",
    "# model.add(Dense(units=32, activation='relu'))\n",
    "\n",
    "# model.add(Dense(units=num_of_classes, activation='softmax'))\n",
    "\n",
    "# #compile model\n",
    "# model.compile(optimizer='adam', loss='categorical_crossentropy', metrics=['categorical_accuracy'])\n",
    "# print (model.summary())"
   ]
  },
  {
   "cell_type": "markdown",
   "metadata": {},
   "source": [
    "##### Observations\n",
    "- Training Accuracy: 1.0000\n",
    "Validation Accuracy: 0.7100"
   ]
  },
  {
   "cell_type": "markdown",
   "metadata": {},
   "source": [
    "##### Decision\n",
    "- Though the validation accuracy has increased there is still overfitting.\n",
    "- To regulate the model, add Dropout layer."
   ]
  },
  {
   "cell_type": "markdown",
   "metadata": {},
   "source": [
    "### Experiment #4\n",
    "\n",
    "- Adding Dropout layer before output layer."
   ]
  },
  {
   "cell_type": "code",
   "execution_count": 88,
   "metadata": {},
   "outputs": [],
   "source": [
    "# # Create a Sequential model\n",
    "# model = Sequential()\n",
    "\n",
    "# model.add(Conv3D(filters=16, kernel_size=(3, 3, 3), padding='same', activation='relu', input_shape=input_shape))\n",
    "# model.add(MaxPooling3D(pool_size=(2, 2, 2)))\n",
    "\n",
    "# model.add(Conv3D(filters=32, kernel_size=(3, 3, 3), padding='same', activation='relu'))\n",
    "# model.add(MaxPooling3D(pool_size=(2, 2, 2)))\n",
    "\n",
    "# model.add(Flatten())\n",
    "\n",
    "# model.add(Dense(units=32, activation='relu'))\n",
    "\n",
    "# model.add(Dropout(0.5))\n",
    "\n",
    "# model.add(Dense(units=num_of_classes, activation='softmax'))\n",
    "\n",
    "# #compile model\n",
    "# model.compile(optimizer='adam', loss='categorical_crossentropy', metrics=['categorical_accuracy'])\n",
    "# print (model.summary())"
   ]
  },
  {
   "cell_type": "markdown",
   "metadata": {},
   "source": [
    "##### Observations\n",
    "\n",
    "- `Training Accuracy: 0.7074` and `Validation Accuracy: 0.6300`."
   ]
  },
  {
   "cell_type": "markdown",
   "metadata": {},
   "source": [
    "##### Decision\n",
    "- There is considerable reduction in overfitting but the accuracies have dropped. \n",
    "- For model to learn more features add conv2d layer.\n"
   ]
  },
  {
   "cell_type": "markdown",
   "metadata": {},
   "source": [
    "### Experiment #5\n",
    "\n",
    "- Adding third conv2d layer with 64 filters and increasing the units in dense layer too."
   ]
  },
  {
   "cell_type": "code",
   "execution_count": 89,
   "metadata": {},
   "outputs": [],
   "source": [
    "# # Create a Sequential model\n",
    "# model = Sequential()\n",
    "\n",
    "# model.add(Conv3D(filters=16, kernel_size=(3, 3, 3), padding='same', activation='relu', input_shape=input_shape))\n",
    "# model.add(MaxPooling3D(pool_size=(2, 2, 2)))\n",
    "\n",
    "# model.add(Conv3D(filters=32, kernel_size=(3, 3, 3), padding='same', activation='relu'))\n",
    "# model.add(MaxPooling3D(pool_size=(2, 2, 2)))\n",
    "\n",
    "# model.add(Conv3D(filters=64, kernel_size=(3, 3, 3), padding='same', activation='relu'))\n",
    "# model.add(MaxPooling3D(pool_size=(2, 2, 2)))\n",
    "\n",
    "# model.add(Flatten())\n",
    "\n",
    "# model.add(Dense(units=64, activation='relu'))\n",
    "\n",
    "# model.add(Dropout(0.5))\n",
    "\n",
    "# model.add(Dense(units=num_of_classes, activation='softmax'))\n",
    "\n",
    "# #compile model\n",
    "# model.compile(optimizer='adam', loss='categorical_crossentropy', metrics=['categorical_accuracy'])\n",
    "# print (model.summary())"
   ]
  },
  {
   "cell_type": "markdown",
   "metadata": {},
   "source": [
    "##### Observations\n",
    "\n",
    "- Training Accuracy: 0.8959 and Validation Accuracy: 0.7300"
   ]
  },
  {
   "cell_type": "markdown",
   "metadata": {},
   "source": [
    "##### Decision\n",
    "\n",
    "- The accuracies have increased but there is overfitting. We will try lesser filter size.\n"
   ]
  },
  {
   "cell_type": "markdown",
   "metadata": {},
   "source": [
    "### Experiment #6\n",
    "- Change filter size/kernel_size to (2,2,2)."
   ]
  },
  {
   "cell_type": "code",
   "execution_count": 90,
   "metadata": {},
   "outputs": [],
   "source": [
    "# # Create a Sequential model\n",
    "# model = Sequential()\n",
    "\n",
    "# model.add(Conv3D(filters=16, kernel_size=(2, 2, 2), padding='same', activation='relu', input_shape=input_shape))\n",
    "# model.add(MaxPooling3D(pool_size=(2, 2, 2)))\n",
    "\n",
    "# model.add(Conv3D(filters=32, kernel_size=(2, 2, 2), padding='same', activation='relu'))\n",
    "# model.add(MaxPooling3D(pool_size=(2, 2, 2)))\n",
    "\n",
    "# model.add(Conv3D(filters=64, kernel_size=(2, 2, 2), padding='same', activation='relu'))\n",
    "# model.add(MaxPooling3D(pool_size=(2, 2, 2)))\n",
    "\n",
    "# model.add(Flatten())\n",
    "\n",
    "# model.add(Dense(units=64, activation='relu'))\n",
    "\n",
    "# model.add(Dropout(0.5))\n",
    "\n",
    "# model.add(Dense(units=num_of_classes, activation='softmax'))\n",
    "\n",
    "# #compile model\n",
    "# model.compile(optimizer='adam', loss='categorical_crossentropy', metrics=['categorical_accuracy'])\n",
    "# print (model.summary())"
   ]
  },
  {
   "cell_type": "markdown",
   "metadata": {},
   "source": [
    "##### Observations\n",
    "- Training Accuracy: 0.4992\n",
    "Validation Accuracy: 0.6100."
   ]
  },
  {
   "cell_type": "markdown",
   "metadata": {},
   "source": [
    "##### Decision\n",
    "- Poor performance so will revert to previous filter size and try Dropout layer to reduce overfitting.\n"
   ]
  },
  {
   "cell_type": "markdown",
   "metadata": {},
   "source": [
    "### Experiment #7\n",
    "\n",
    "- Adding Dropout layer after flatten layer."
   ]
  },
  {
   "cell_type": "code",
   "execution_count": 91,
   "metadata": {},
   "outputs": [],
   "source": [
    "# # Create a Sequential model\n",
    "# model = Sequential()\n",
    "\n",
    "# model.add(Conv3D(filters=16, kernel_size=(3, 3, 3), padding='same', activation='relu', input_shape=input_shape))\n",
    "# model.add(MaxPooling3D(pool_size=(2, 2, 2)))\n",
    "\n",
    "# model.add(Conv3D(filters=32, kernel_size=(3, 3, 3), padding='same', activation='relu'))\n",
    "# model.add(MaxPooling3D(pool_size=(2, 2, 2)))\n",
    "\n",
    "# model.add(Conv3D(filters=64, kernel_size=(3, 3, 3), padding='same', activation='relu'))\n",
    "# model.add(MaxPooling3D(pool_size=(2, 2, 2)))\n",
    "\n",
    "# model.add(Flatten())\n",
    "\n",
    "# model.add(Dropout(0.5))\n",
    "\n",
    "# model.add(Dense(units=64, activation='relu'))\n",
    "\n",
    "# model.add(Dropout(0.5))\n",
    "\n",
    "# model.add(Dense(units=num_of_classes, activation='softmax'))\n",
    "\n",
    "# #compile model\n",
    "# model.compile(optimizer='adam', loss='categorical_crossentropy', metrics=['categorical_accuracy'])\n",
    "# print (model.summary())"
   ]
  },
  {
   "cell_type": "markdown",
   "metadata": {},
   "source": [
    "##### Observations\n",
    "- Training Accuracy: 0.7843\n",
    "Validation Accuracy: 0.7200"
   ]
  },
  {
   "cell_type": "markdown",
   "metadata": {},
   "source": [
    "##### Decision\n",
    "- Overfitting is reduced but accuracies decreased.\n",
    "- We will try cropping images and see if it increases accuracy.\n"
   ]
  },
  {
   "cell_type": "markdown",
   "metadata": {},
   "source": [
    "### Experiment #8\n",
    "\n",
    "- Cropping images to a consistent square size."
   ]
  },
  {
   "cell_type": "code",
   "execution_count": 92,
   "metadata": {},
   "outputs": [
    {
     "data": {
      "text/html": [
       "<pre style=\"white-space:pre;overflow-x:auto;line-height:normal;font-family:Menlo,'DejaVu Sans Mono',consolas,'Courier New',monospace\"><span style=\"font-weight: bold\">Model: \"sequential_2\"</span>\n",
       "</pre>\n"
      ],
      "text/plain": [
       "\u001b[1mModel: \"sequential_2\"\u001b[0m\n"
      ]
     },
     "metadata": {},
     "output_type": "display_data"
    },
    {
     "data": {
      "text/html": [
       "<pre style=\"white-space:pre;overflow-x:auto;line-height:normal;font-family:Menlo,'DejaVu Sans Mono',consolas,'Courier New',monospace\">┏━━━━━━━━━━━━━━━━━━━━━━━━━━━━━━━━━┳━━━━━━━━━━━━━━━━━━━━━━━━┳━━━━━━━━━━━━━━━┓\n",
       "┃<span style=\"font-weight: bold\"> Layer (type)                    </span>┃<span style=\"font-weight: bold\"> Output Shape           </span>┃<span style=\"font-weight: bold\">       Param # </span>┃\n",
       "┡━━━━━━━━━━━━━━━━━━━━━━━━━━━━━━━━━╇━━━━━━━━━━━━━━━━━━━━━━━━╇━━━━━━━━━━━━━━━┩\n",
       "│ conv3d_6 (<span style=\"color: #0087ff; text-decoration-color: #0087ff\">Conv3D</span>)               │ (<span style=\"color: #00d7ff; text-decoration-color: #00d7ff\">None</span>, <span style=\"color: #00af00; text-decoration-color: #00af00\">15</span>, <span style=\"color: #00af00; text-decoration-color: #00af00\">80</span>, <span style=\"color: #00af00; text-decoration-color: #00af00\">80</span>, <span style=\"color: #00af00; text-decoration-color: #00af00\">16</span>) │         <span style=\"color: #00af00; text-decoration-color: #00af00\">1,312</span> │\n",
       "├─────────────────────────────────┼────────────────────────┼───────────────┤\n",
       "│ max_pooling3d_6 (<span style=\"color: #0087ff; text-decoration-color: #0087ff\">MaxPooling3D</span>)  │ (<span style=\"color: #00d7ff; text-decoration-color: #00d7ff\">None</span>, <span style=\"color: #00af00; text-decoration-color: #00af00\">7</span>, <span style=\"color: #00af00; text-decoration-color: #00af00\">40</span>, <span style=\"color: #00af00; text-decoration-color: #00af00\">40</span>, <span style=\"color: #00af00; text-decoration-color: #00af00\">16</span>)  │             <span style=\"color: #00af00; text-decoration-color: #00af00\">0</span> │\n",
       "├─────────────────────────────────┼────────────────────────┼───────────────┤\n",
       "│ conv3d_7 (<span style=\"color: #0087ff; text-decoration-color: #0087ff\">Conv3D</span>)               │ (<span style=\"color: #00d7ff; text-decoration-color: #00d7ff\">None</span>, <span style=\"color: #00af00; text-decoration-color: #00af00\">7</span>, <span style=\"color: #00af00; text-decoration-color: #00af00\">40</span>, <span style=\"color: #00af00; text-decoration-color: #00af00\">40</span>, <span style=\"color: #00af00; text-decoration-color: #00af00\">32</span>)  │        <span style=\"color: #00af00; text-decoration-color: #00af00\">13,856</span> │\n",
       "├─────────────────────────────────┼────────────────────────┼───────────────┤\n",
       "│ max_pooling3d_7 (<span style=\"color: #0087ff; text-decoration-color: #0087ff\">MaxPooling3D</span>)  │ (<span style=\"color: #00d7ff; text-decoration-color: #00d7ff\">None</span>, <span style=\"color: #00af00; text-decoration-color: #00af00\">3</span>, <span style=\"color: #00af00; text-decoration-color: #00af00\">20</span>, <span style=\"color: #00af00; text-decoration-color: #00af00\">20</span>, <span style=\"color: #00af00; text-decoration-color: #00af00\">32</span>)  │             <span style=\"color: #00af00; text-decoration-color: #00af00\">0</span> │\n",
       "├─────────────────────────────────┼────────────────────────┼───────────────┤\n",
       "│ conv3d_8 (<span style=\"color: #0087ff; text-decoration-color: #0087ff\">Conv3D</span>)               │ (<span style=\"color: #00d7ff; text-decoration-color: #00d7ff\">None</span>, <span style=\"color: #00af00; text-decoration-color: #00af00\">3</span>, <span style=\"color: #00af00; text-decoration-color: #00af00\">20</span>, <span style=\"color: #00af00; text-decoration-color: #00af00\">20</span>, <span style=\"color: #00af00; text-decoration-color: #00af00\">64</span>)  │        <span style=\"color: #00af00; text-decoration-color: #00af00\">55,360</span> │\n",
       "├─────────────────────────────────┼────────────────────────┼───────────────┤\n",
       "│ max_pooling3d_8 (<span style=\"color: #0087ff; text-decoration-color: #0087ff\">MaxPooling3D</span>)  │ (<span style=\"color: #00d7ff; text-decoration-color: #00d7ff\">None</span>, <span style=\"color: #00af00; text-decoration-color: #00af00\">1</span>, <span style=\"color: #00af00; text-decoration-color: #00af00\">10</span>, <span style=\"color: #00af00; text-decoration-color: #00af00\">10</span>, <span style=\"color: #00af00; text-decoration-color: #00af00\">64</span>)  │             <span style=\"color: #00af00; text-decoration-color: #00af00\">0</span> │\n",
       "├─────────────────────────────────┼────────────────────────┼───────────────┤\n",
       "│ flatten_2 (<span style=\"color: #0087ff; text-decoration-color: #0087ff\">Flatten</span>)             │ (<span style=\"color: #00d7ff; text-decoration-color: #00d7ff\">None</span>, <span style=\"color: #00af00; text-decoration-color: #00af00\">6400</span>)           │             <span style=\"color: #00af00; text-decoration-color: #00af00\">0</span> │\n",
       "├─────────────────────────────────┼────────────────────────┼───────────────┤\n",
       "│ dropout_4 (<span style=\"color: #0087ff; text-decoration-color: #0087ff\">Dropout</span>)             │ (<span style=\"color: #00d7ff; text-decoration-color: #00d7ff\">None</span>, <span style=\"color: #00af00; text-decoration-color: #00af00\">6400</span>)           │             <span style=\"color: #00af00; text-decoration-color: #00af00\">0</span> │\n",
       "├─────────────────────────────────┼────────────────────────┼───────────────┤\n",
       "│ dense_4 (<span style=\"color: #0087ff; text-decoration-color: #0087ff\">Dense</span>)                 │ (<span style=\"color: #00d7ff; text-decoration-color: #00d7ff\">None</span>, <span style=\"color: #00af00; text-decoration-color: #00af00\">64</span>)             │       <span style=\"color: #00af00; text-decoration-color: #00af00\">409,664</span> │\n",
       "├─────────────────────────────────┼────────────────────────┼───────────────┤\n",
       "│ dropout_5 (<span style=\"color: #0087ff; text-decoration-color: #0087ff\">Dropout</span>)             │ (<span style=\"color: #00d7ff; text-decoration-color: #00d7ff\">None</span>, <span style=\"color: #00af00; text-decoration-color: #00af00\">64</span>)             │             <span style=\"color: #00af00; text-decoration-color: #00af00\">0</span> │\n",
       "├─────────────────────────────────┼────────────────────────┼───────────────┤\n",
       "│ dense_5 (<span style=\"color: #0087ff; text-decoration-color: #0087ff\">Dense</span>)                 │ (<span style=\"color: #00d7ff; text-decoration-color: #00d7ff\">None</span>, <span style=\"color: #00af00; text-decoration-color: #00af00\">5</span>)              │           <span style=\"color: #00af00; text-decoration-color: #00af00\">325</span> │\n",
       "└─────────────────────────────────┴────────────────────────┴───────────────┘\n",
       "</pre>\n"
      ],
      "text/plain": [
       "┏━━━━━━━━━━━━━━━━━━━━━━━━━━━━━━━━━┳━━━━━━━━━━━━━━━━━━━━━━━━┳━━━━━━━━━━━━━━━┓\n",
       "┃\u001b[1m \u001b[0m\u001b[1mLayer (type)                   \u001b[0m\u001b[1m \u001b[0m┃\u001b[1m \u001b[0m\u001b[1mOutput Shape          \u001b[0m\u001b[1m \u001b[0m┃\u001b[1m \u001b[0m\u001b[1m      Param #\u001b[0m\u001b[1m \u001b[0m┃\n",
       "┡━━━━━━━━━━━━━━━━━━━━━━━━━━━━━━━━━╇━━━━━━━━━━━━━━━━━━━━━━━━╇━━━━━━━━━━━━━━━┩\n",
       "│ conv3d_6 (\u001b[38;5;33mConv3D\u001b[0m)               │ (\u001b[38;5;45mNone\u001b[0m, \u001b[38;5;34m15\u001b[0m, \u001b[38;5;34m80\u001b[0m, \u001b[38;5;34m80\u001b[0m, \u001b[38;5;34m16\u001b[0m) │         \u001b[38;5;34m1,312\u001b[0m │\n",
       "├─────────────────────────────────┼────────────────────────┼───────────────┤\n",
       "│ max_pooling3d_6 (\u001b[38;5;33mMaxPooling3D\u001b[0m)  │ (\u001b[38;5;45mNone\u001b[0m, \u001b[38;5;34m7\u001b[0m, \u001b[38;5;34m40\u001b[0m, \u001b[38;5;34m40\u001b[0m, \u001b[38;5;34m16\u001b[0m)  │             \u001b[38;5;34m0\u001b[0m │\n",
       "├─────────────────────────────────┼────────────────────────┼───────────────┤\n",
       "│ conv3d_7 (\u001b[38;5;33mConv3D\u001b[0m)               │ (\u001b[38;5;45mNone\u001b[0m, \u001b[38;5;34m7\u001b[0m, \u001b[38;5;34m40\u001b[0m, \u001b[38;5;34m40\u001b[0m, \u001b[38;5;34m32\u001b[0m)  │        \u001b[38;5;34m13,856\u001b[0m │\n",
       "├─────────────────────────────────┼────────────────────────┼───────────────┤\n",
       "│ max_pooling3d_7 (\u001b[38;5;33mMaxPooling3D\u001b[0m)  │ (\u001b[38;5;45mNone\u001b[0m, \u001b[38;5;34m3\u001b[0m, \u001b[38;5;34m20\u001b[0m, \u001b[38;5;34m20\u001b[0m, \u001b[38;5;34m32\u001b[0m)  │             \u001b[38;5;34m0\u001b[0m │\n",
       "├─────────────────────────────────┼────────────────────────┼───────────────┤\n",
       "│ conv3d_8 (\u001b[38;5;33mConv3D\u001b[0m)               │ (\u001b[38;5;45mNone\u001b[0m, \u001b[38;5;34m3\u001b[0m, \u001b[38;5;34m20\u001b[0m, \u001b[38;5;34m20\u001b[0m, \u001b[38;5;34m64\u001b[0m)  │        \u001b[38;5;34m55,360\u001b[0m │\n",
       "├─────────────────────────────────┼────────────────────────┼───────────────┤\n",
       "│ max_pooling3d_8 (\u001b[38;5;33mMaxPooling3D\u001b[0m)  │ (\u001b[38;5;45mNone\u001b[0m, \u001b[38;5;34m1\u001b[0m, \u001b[38;5;34m10\u001b[0m, \u001b[38;5;34m10\u001b[0m, \u001b[38;5;34m64\u001b[0m)  │             \u001b[38;5;34m0\u001b[0m │\n",
       "├─────────────────────────────────┼────────────────────────┼───────────────┤\n",
       "│ flatten_2 (\u001b[38;5;33mFlatten\u001b[0m)             │ (\u001b[38;5;45mNone\u001b[0m, \u001b[38;5;34m6400\u001b[0m)           │             \u001b[38;5;34m0\u001b[0m │\n",
       "├─────────────────────────────────┼────────────────────────┼───────────────┤\n",
       "│ dropout_4 (\u001b[38;5;33mDropout\u001b[0m)             │ (\u001b[38;5;45mNone\u001b[0m, \u001b[38;5;34m6400\u001b[0m)           │             \u001b[38;5;34m0\u001b[0m │\n",
       "├─────────────────────────────────┼────────────────────────┼───────────────┤\n",
       "│ dense_4 (\u001b[38;5;33mDense\u001b[0m)                 │ (\u001b[38;5;45mNone\u001b[0m, \u001b[38;5;34m64\u001b[0m)             │       \u001b[38;5;34m409,664\u001b[0m │\n",
       "├─────────────────────────────────┼────────────────────────┼───────────────┤\n",
       "│ dropout_5 (\u001b[38;5;33mDropout\u001b[0m)             │ (\u001b[38;5;45mNone\u001b[0m, \u001b[38;5;34m64\u001b[0m)             │             \u001b[38;5;34m0\u001b[0m │\n",
       "├─────────────────────────────────┼────────────────────────┼───────────────┤\n",
       "│ dense_5 (\u001b[38;5;33mDense\u001b[0m)                 │ (\u001b[38;5;45mNone\u001b[0m, \u001b[38;5;34m5\u001b[0m)              │           \u001b[38;5;34m325\u001b[0m │\n",
       "└─────────────────────────────────┴────────────────────────┴───────────────┘\n"
      ]
     },
     "metadata": {},
     "output_type": "display_data"
    },
    {
     "data": {
      "text/html": [
       "<pre style=\"white-space:pre;overflow-x:auto;line-height:normal;font-family:Menlo,'DejaVu Sans Mono',consolas,'Courier New',monospace\"><span style=\"font-weight: bold\"> Total params: </span><span style=\"color: #00af00; text-decoration-color: #00af00\">480,517</span> (1.83 MB)\n",
       "</pre>\n"
      ],
      "text/plain": [
       "\u001b[1m Total params: \u001b[0m\u001b[38;5;34m480,517\u001b[0m (1.83 MB)\n"
      ]
     },
     "metadata": {},
     "output_type": "display_data"
    },
    {
     "data": {
      "text/html": [
       "<pre style=\"white-space:pre;overflow-x:auto;line-height:normal;font-family:Menlo,'DejaVu Sans Mono',consolas,'Courier New',monospace\"><span style=\"font-weight: bold\"> Trainable params: </span><span style=\"color: #00af00; text-decoration-color: #00af00\">480,517</span> (1.83 MB)\n",
       "</pre>\n"
      ],
      "text/plain": [
       "\u001b[1m Trainable params: \u001b[0m\u001b[38;5;34m480,517\u001b[0m (1.83 MB)\n"
      ]
     },
     "metadata": {},
     "output_type": "display_data"
    },
    {
     "data": {
      "text/html": [
       "<pre style=\"white-space:pre;overflow-x:auto;line-height:normal;font-family:Menlo,'DejaVu Sans Mono',consolas,'Courier New',monospace\"><span style=\"font-weight: bold\"> Non-trainable params: </span><span style=\"color: #00af00; text-decoration-color: #00af00\">0</span> (0.00 B)\n",
       "</pre>\n"
      ],
      "text/plain": [
       "\u001b[1m Non-trainable params: \u001b[0m\u001b[38;5;34m0\u001b[0m (0.00 B)\n"
      ]
     },
     "metadata": {},
     "output_type": "display_data"
    },
    {
     "name": "stdout",
     "output_type": "stream",
     "text": [
      "None\n"
     ]
    }
   ],
   "source": [
    "# Create a Sequential model\n",
    "model = Sequential()\n",
    "\n",
    "model.add(Conv3D(filters=16, kernel_size=(3, 3, 3), padding='same', activation='relu', input_shape=input_shape))\n",
    "model.add(MaxPooling3D(pool_size=(2, 2, 2)))\n",
    "\n",
    "model.add(Conv3D(filters=32, kernel_size=(3, 3, 3), padding='same', activation='relu'))\n",
    "model.add(MaxPooling3D(pool_size=(2, 2, 2)))\n",
    "\n",
    "model.add(Conv3D(filters=64, kernel_size=(3, 3, 3), padding='same', activation='relu'))\n",
    "model.add(MaxPooling3D(pool_size=(2, 2, 2)))\n",
    "\n",
    "model.add(Flatten())\n",
    "\n",
    "model.add(Dropout(0.5))\n",
    "\n",
    "model.add(Dense(units=64, activation='relu'))\n",
    "\n",
    "model.add(Dropout(0.5))\n",
    "\n",
    "model.add(Dense(units=num_of_classes, activation='softmax'))\n",
    "\n",
    "#compile model\n",
    "model.compile(optimizer='adam', loss='categorical_crossentropy', metrics=['categorical_accuracy'])\n",
    "print (model.summary())"
   ]
  },
  {
   "cell_type": "markdown",
   "metadata": {},
   "source": [
    "##### Observations\n",
    "- Training Accuracy: 0.8552\n",
    "Validation Accuracy: 0.8200."
   ]
  },
  {
   "cell_type": "markdown",
   "metadata": {},
   "source": [
    "##### Decision\n",
    "- Best performance till now.\n",
    "- Will now try increasing the image size to see if it improves performance.\n"
   ]
  },
  {
   "cell_type": "markdown",
   "metadata": {},
   "source": [
    "### Experiment #9\n",
    "- Change image size to `100 x 100`."
   ]
  },
  {
   "cell_type": "code",
   "execution_count": 93,
   "metadata": {},
   "outputs": [],
   "source": [
    "# # Create a Sequential model\n",
    "# model = Sequential()\n",
    "\n",
    "# model.add(Conv3D(filters=16, kernel_size=(3, 3, 3), padding='same', activation='relu', input_shape=input_shape))\n",
    "# model.add(MaxPooling3D(pool_size=(2, 2, 2)))\n",
    "\n",
    "# model.add(Conv3D(filters=32, kernel_size=(3, 3, 3), padding='same', activation='relu'))\n",
    "# model.add(MaxPooling3D(pool_size=(2, 2, 2)))\n",
    "\n",
    "# model.add(Conv3D(filters=64, kernel_size=(3, 3, 3), padding='same', activation='relu'))\n",
    "# model.add(MaxPooling3D(pool_size=(2, 2, 2)))\n",
    "\n",
    "# model.add(Flatten())\n",
    "\n",
    "# model.add(Dropout(0.5))\n",
    "\n",
    "# model.add(Dense(units=64, activation='relu'))\n",
    "\n",
    "# model.add(Dropout(0.5))\n",
    "\n",
    "# model.add(Dense(units=num_of_classes, activation='softmax'))\n",
    "\n",
    "# #compile model\n",
    "# model.compile(optimizer='adam', loss='categorical_crossentropy', metrics=['categorical_accuracy'])\n",
    "# print (model.summary())"
   ]
  },
  {
   "cell_type": "markdown",
   "metadata": {},
   "source": [
    "##### Observations\n",
    "- Training Accuracy: 0.7195\n",
    "Validation Accuracy: 0.6900."
   ]
  },
  {
   "cell_type": "markdown",
   "metadata": {},
   "source": [
    "##### Decision\n",
    "- The performance did not imrpove so will revert back to previous model.\n",
    "- Next will try increasing `no_of_images per video` to feed more information for learning and see if accuracy increases.\n"
   ]
  },
  {
   "cell_type": "markdown",
   "metadata": {},
   "source": [
    "### Experiment #10\n",
    "\n",
    "- change `no_of_images` per video from `15 to 20`."
   ]
  },
  {
   "cell_type": "code",
   "execution_count": 94,
   "metadata": {},
   "outputs": [],
   "source": [
    "# # Create a Sequential model\n",
    "# model = Sequential()\n",
    "\n",
    "# model.add(Conv3D(filters=16, kernel_size=(3, 3, 3), padding='same', activation='relu', input_shape=input_shape))\n",
    "# model.add(MaxPooling3D(pool_size=(2, 2, 2)))\n",
    "\n",
    "# model.add(Conv3D(filters=32, kernel_size=(3, 3, 3), padding='same', activation='relu'))\n",
    "# model.add(MaxPooling3D(pool_size=(2, 2, 2)))\n",
    "\n",
    "# model.add(Conv3D(filters=64, kernel_size=(3, 3, 3), padding='same', activation='relu'))\n",
    "# model.add(MaxPooling3D(pool_size=(2, 2, 2)))\n",
    "\n",
    "# model.add(Flatten())\n",
    "\n",
    "# model.add(Dropout(0.5))\n",
    "\n",
    "# model.add(Dense(units=64, activation='relu'))\n",
    "\n",
    "# model.add(Dropout(0.5))\n",
    "\n",
    "# model.add(Dense(units=num_of_classes, activation='softmax'))\n",
    "\n",
    "# #compile model\n",
    "# model.compile(optimizer='adam', loss='categorical_crossentropy', metrics=['categorical_accuracy'])\n",
    "# print (model.summary())"
   ]
  },
  {
   "cell_type": "markdown",
   "metadata": {},
   "source": [
    "##### Observations\n",
    "- Training Accuracy: 0.8673\n",
    "Validation Accuracy: 0.7700."
   ]
  },
  {
   "cell_type": "markdown",
   "metadata": {},
   "source": [
    "##### Decision\n",
    "- Not better than previous model so will revert back.\n",
    "- Will now try reducing batch-size and see if it improves performance.\n"
   ]
  },
  {
   "cell_type": "markdown",
   "metadata": {},
   "source": [
    "### Experiment #11\n",
    "\n",
    "- Changing batch size from `32 to 20`."
   ]
  },
  {
   "cell_type": "code",
   "execution_count": 95,
   "metadata": {},
   "outputs": [],
   "source": [
    "# # Create a Sequential model\n",
    "# model = Sequential()\n",
    "\n",
    "# model.add(Conv3D(filters=16, kernel_size=(3, 3, 3), padding='same', activation='relu', input_shape=input_shape))\n",
    "# model.add(MaxPooling3D(pool_size=(2, 2, 2)))\n",
    "\n",
    "# model.add(Conv3D(filters=32, kernel_size=(3, 3, 3), padding='same', activation='relu'))\n",
    "# model.add(MaxPooling3D(pool_size=(2, 2, 2)))\n",
    "\n",
    "# model.add(Conv3D(filters=64, kernel_size=(3, 3, 3), padding='same', activation='relu'))\n",
    "# model.add(MaxPooling3D(pool_size=(2, 2, 2)))\n",
    "\n",
    "# model.add(Flatten())\n",
    "\n",
    "# model.add(Dropout(0.5))\n",
    "\n",
    "# model.add(Dense(units=64, activation='relu'))\n",
    "\n",
    "# model.add(Dropout(0.5))\n",
    "\n",
    "# model.add(Dense(units=num_of_classes, activation='softmax'))\n",
    "\n",
    "# #compile model\n",
    "# model.compile(optimizer='adam', loss='categorical_crossentropy', metrics=['categorical_accuracy'])\n",
    "# print (model.summary())"
   ]
  },
  {
   "cell_type": "markdown",
   "metadata": {},
   "source": [
    "##### Observations\n",
    "- Training Accuracy: 0.7843\n",
    "Validation Accuracy: 0.7700."
   ]
  },
  {
   "cell_type": "markdown",
   "metadata": {},
   "source": [
    "##### Decision\n",
    "- Lower accuracies than previous model so will revert back.\n",
    "- Will now try CNN-RNN architecture to see if it improves performance.\n"
   ]
  },
  {
   "cell_type": "markdown",
   "metadata": {},
   "source": [
    "### Experiment #12\n",
    "\n",
    "- Using Conv2D-ConvLSTM2D Model."
   ]
  },
  {
   "cell_type": "code",
   "execution_count": 96,
   "metadata": {},
   "outputs": [],
   "source": [
    "# # import tensorflow as tf\n",
    "# # from tensorflow.keras.models import Sequential\n",
    "# from tensorflow.keras.layers import Conv2D, ConvLSTM2D, MaxPooling2D, Flatten, Dense, Dropout, TimeDistributed\n",
    "\n",
    "# # Create a Sequential model\n",
    "# model = Sequential()\n",
    "\n",
    "# # Add TimeDistributed Conv2D layers\n",
    "# model.add(TimeDistributed(Conv2D(filters=16, kernel_size=(3, 3), activation='relu'), input_shape=input_shape))\n",
    "# model.add(TimeDistributed(MaxPooling2D(pool_size=(2, 2))))\n",
    "\n",
    "# model.add(TimeDistributed(Conv2D(filters=32, kernel_size=(3, 3), activation='relu')))\n",
    "# model.add(TimeDistributed(MaxPooling2D(pool_size=(2, 2))))\n",
    "\n",
    "# # Add another ConvLSTM2D layer\n",
    "# model.add(ConvLSTM2D(\n",
    "#     filters=32,  # Number of filters in the ConvLSTM2D layer\n",
    "#     kernel_size=(3, 3),  # Size of the kernel\n",
    "#     activation='relu',  # Activation function\n",
    "#     return_sequences=False  # Whether to return sequences (False for final output)\n",
    "# ))\n",
    "\n",
    "# model.add(Flatten())\n",
    "\n",
    "# model.add(Dropout(0.5))\n",
    "\n",
    "# model.add(Dense(32, activation='relu'))\n",
    "\n",
    "# model.add(Dropout(0.5))\n",
    "\n",
    "# # Output layer for classification\n",
    "# model.add(Dense(num_of_classes, activation='softmax'))  # 5 classes, change as needed\n",
    "\n",
    "# #compile model\n",
    "# model.compile(optimizer='adam', loss='categorical_crossentropy', metrics=['categorical_accuracy'])\n",
    "# print (model.summary())"
   ]
  },
  {
   "cell_type": "markdown",
   "metadata": {},
   "source": [
    "##### Observations\n",
    "- Training Accuracy: 0.6501\n",
    "Validation Accuracy: 0.6100."
   ]
  },
  {
   "cell_type": "markdown",
   "metadata": {},
   "source": [
    "##### Decision\n",
    "- Not better than Conv2D models.\n"
   ]
  },
  {
   "cell_type": "code",
   "execution_count": null,
   "metadata": {},
   "outputs": [],
   "source": []
  },
  {
   "cell_type": "code",
   "execution_count": 97,
   "metadata": {
    "scrolled": false
   },
   "outputs": [
    {
     "name": "stdout",
     "output_type": "stream",
     "text": [
      "Epoch 1/20\n",
      "\u001b[1m21/21\u001b[0m \u001b[32m━━━━━━━━━━━━━━━━━━━━\u001b[0m\u001b[37m\u001b[0m \u001b[1m0s\u001b[0m 3s/step - categorical_accuracy: 0.2075 - loss: 1.6730\n",
      "Epoch 1: saving model to models/model_init_2024-05-01-22_43_38.297768/model-00001-1.63606-0.19608-1.60026-0.24000.keras\n",
      "\u001b[1m21/21\u001b[0m \u001b[32m━━━━━━━━━━━━━━━━━━━━\u001b[0m\u001b[37m\u001b[0m \u001b[1m62s\u001b[0m 3s/step - categorical_accuracy: 0.2070 - loss: 1.6713 - val_categorical_accuracy: 0.2400 - val_loss: 1.6003 - learning_rate: 0.0010\n",
      "Epoch 2/20\n",
      "\u001b[1m21/21\u001b[0m \u001b[32m━━━━━━━━━━━━━━━━━━━━\u001b[0m\u001b[37m\u001b[0m \u001b[1m0s\u001b[0m 3s/step - categorical_accuracy: 0.1709 - loss: 1.5998\n",
      "Epoch 2: saving model to models/model_init_2024-05-01-22_43_38.297768/model-00002-1.59917-0.19005-1.57932-0.18000.keras\n",
      "\u001b[1m21/21\u001b[0m \u001b[32m━━━━━━━━━━━━━━━━━━━━\u001b[0m\u001b[37m\u001b[0m \u001b[1m57s\u001b[0m 3s/step - categorical_accuracy: 0.1718 - loss: 1.5998 - val_categorical_accuracy: 0.1800 - val_loss: 1.5793 - learning_rate: 0.0010\n",
      "Epoch 3/20\n",
      "\u001b[1m21/21\u001b[0m \u001b[32m━━━━━━━━━━━━━━━━━━━━\u001b[0m\u001b[37m\u001b[0m \u001b[1m0s\u001b[0m 3s/step - categorical_accuracy: 0.2410 - loss: 1.5562\n",
      "Epoch 3: saving model to models/model_init_2024-05-01-22_43_38.297768/model-00003-1.52899-0.28054-1.44140-0.35000.keras\n",
      "\u001b[1m21/21\u001b[0m \u001b[32m━━━━━━━━━━━━━━━━━━━━\u001b[0m\u001b[37m\u001b[0m \u001b[1m57s\u001b[0m 3s/step - categorical_accuracy: 0.2428 - loss: 1.5549 - val_categorical_accuracy: 0.3500 - val_loss: 1.4414 - learning_rate: 0.0010\n",
      "Epoch 4/20\n",
      "\u001b[1m21/21\u001b[0m \u001b[32m━━━━━━━━━━━━━━━━━━━━\u001b[0m\u001b[37m\u001b[0m \u001b[1m0s\u001b[0m 3s/step - categorical_accuracy: 0.3678 - loss: 1.4761\n",
      "Epoch 4: saving model to models/model_init_2024-05-01-22_43_38.297768/model-00004-1.44286-0.38009-1.25820-0.47000.keras\n",
      "\u001b[1m21/21\u001b[0m \u001b[32m━━━━━━━━━━━━━━━━━━━━\u001b[0m\u001b[37m\u001b[0m \u001b[1m56s\u001b[0m 3s/step - categorical_accuracy: 0.3684 - loss: 1.4746 - val_categorical_accuracy: 0.4700 - val_loss: 1.2582 - learning_rate: 0.0010\n",
      "Epoch 5/20\n",
      "\u001b[1m21/21\u001b[0m \u001b[32m━━━━━━━━━━━━━━━━━━━━\u001b[0m\u001b[37m\u001b[0m \u001b[1m0s\u001b[0m 3s/step - categorical_accuracy: 0.4127 - loss: 1.3338\n",
      "Epoch 5: saving model to models/model_init_2024-05-01-22_43_38.297768/model-00005-1.31375-0.43590-1.19535-0.48000.keras\n",
      "\u001b[1m21/21\u001b[0m \u001b[32m━━━━━━━━━━━━━━━━━━━━\u001b[0m\u001b[37m\u001b[0m \u001b[1m55s\u001b[0m 3s/step - categorical_accuracy: 0.4138 - loss: 1.3328 - val_categorical_accuracy: 0.4800 - val_loss: 1.1953 - learning_rate: 0.0010\n",
      "Epoch 6/20\n",
      "\u001b[1m21/21\u001b[0m \u001b[32m━━━━━━━━━━━━━━━━━━━━\u001b[0m\u001b[37m\u001b[0m \u001b[1m0s\u001b[0m 3s/step - categorical_accuracy: 0.4830 - loss: 1.2273\n",
      "Epoch 6: saving model to models/model_init_2024-05-01-22_43_38.297768/model-00006-1.18720-0.51885-1.12063-0.52000.keras\n",
      "\u001b[1m21/21\u001b[0m \u001b[32m━━━━━━━━━━━━━━━━━━━━\u001b[0m\u001b[37m\u001b[0m \u001b[1m57s\u001b[0m 3s/step - categorical_accuracy: 0.4846 - loss: 1.2255 - val_categorical_accuracy: 0.5200 - val_loss: 1.1206 - learning_rate: 0.0010\n",
      "Epoch 7/20\n",
      "\u001b[1m21/21\u001b[0m \u001b[32m━━━━━━━━━━━━━━━━━━━━\u001b[0m\u001b[37m\u001b[0m \u001b[1m0s\u001b[0m 3s/step - categorical_accuracy: 0.5542 - loss: 1.1207\n",
      "Epoch 7: saving model to models/model_init_2024-05-01-22_43_38.297768/model-00007-1.14168-0.54751-1.03553-0.59000.keras\n",
      "\u001b[1m21/21\u001b[0m \u001b[32m━━━━━━━━━━━━━━━━━━━━\u001b[0m\u001b[37m\u001b[0m \u001b[1m57s\u001b[0m 3s/step - categorical_accuracy: 0.5539 - loss: 1.1217 - val_categorical_accuracy: 0.5900 - val_loss: 1.0355 - learning_rate: 0.0010\n",
      "Epoch 8/20\n",
      "\u001b[1m21/21\u001b[0m \u001b[32m━━━━━━━━━━━━━━━━━━━━\u001b[0m\u001b[37m\u001b[0m \u001b[1m0s\u001b[0m 3s/step - categorical_accuracy: 0.5664 - loss: 1.1135\n",
      "Epoch 8: saving model to models/model_init_2024-05-01-22_43_38.297768/model-00008-1.06425-0.59578-0.91978-0.61000.keras\n",
      "\u001b[1m21/21\u001b[0m \u001b[32m━━━━━━━━━━━━━━━━━━━━\u001b[0m\u001b[37m\u001b[0m \u001b[1m58s\u001b[0m 3s/step - categorical_accuracy: 0.5677 - loss: 1.1113 - val_categorical_accuracy: 0.6100 - val_loss: 0.9198 - learning_rate: 0.0010\n",
      "Epoch 9/20\n",
      "\u001b[1m21/21\u001b[0m \u001b[32m━━━━━━━━━━━━━━━━━━━━\u001b[0m\u001b[37m\u001b[0m \u001b[1m0s\u001b[0m 3s/step - categorical_accuracy: 0.6159 - loss: 0.9327\n",
      "Epoch 9: saving model to models/model_init_2024-05-01-22_43_38.297768/model-00009-0.95488-0.60935-0.85292-0.65000.keras\n",
      "\u001b[1m21/21\u001b[0m \u001b[32m━━━━━━━━━━━━━━━━━━━━\u001b[0m\u001b[37m\u001b[0m \u001b[1m57s\u001b[0m 3s/step - categorical_accuracy: 0.6156 - loss: 0.9338 - val_categorical_accuracy: 0.6500 - val_loss: 0.8529 - learning_rate: 0.0010\n",
      "Epoch 10/20\n",
      "\u001b[1m21/21\u001b[0m \u001b[32m━━━━━━━━━━━━━━━━━━━━\u001b[0m\u001b[37m\u001b[0m \u001b[1m0s\u001b[0m 3s/step - categorical_accuracy: 0.6229 - loss: 0.8977\n",
      "Epoch 10: saving model to models/model_init_2024-05-01-22_43_38.297768/model-00010-0.88870-0.63198-0.81713-0.70000.keras\n",
      "\u001b[1m21/21\u001b[0m \u001b[32m━━━━━━━━━━━━━━━━━━━━\u001b[0m\u001b[37m\u001b[0m \u001b[1m57s\u001b[0m 3s/step - categorical_accuracy: 0.6233 - loss: 0.8973 - val_categorical_accuracy: 0.7000 - val_loss: 0.8171 - learning_rate: 0.0010\n",
      "Epoch 11/20\n",
      "\u001b[1m21/21\u001b[0m \u001b[32m━━━━━━━━━━━━━━━━━━━━\u001b[0m\u001b[37m\u001b[0m \u001b[1m0s\u001b[0m 3s/step - categorical_accuracy: 0.6544 - loss: 0.9050\n",
      "Epoch 11: saving model to models/model_init_2024-05-01-22_43_38.297768/model-00011-0.84256-0.65762-0.82004-0.71000.keras\n",
      "\u001b[1m21/21\u001b[0m \u001b[32m━━━━━━━━━━━━━━━━━━━━\u001b[0m\u001b[37m\u001b[0m \u001b[1m57s\u001b[0m 3s/step - categorical_accuracy: 0.6546 - loss: 0.9022 - val_categorical_accuracy: 0.7100 - val_loss: 0.8200 - learning_rate: 0.0010\n",
      "Epoch 12/20\n",
      "\u001b[1m21/21\u001b[0m \u001b[32m━━━━━━━━━━━━━━━━━━━━\u001b[0m\u001b[37m\u001b[0m \u001b[1m0s\u001b[0m 3s/step - categorical_accuracy: 0.7029 - loss: 0.7623\n",
      "Epoch 12: saving model to models/model_init_2024-05-01-22_43_38.297768/model-00012-0.75200-0.69231-0.70419-0.73000.keras\n",
      "\u001b[1m21/21\u001b[0m \u001b[32m━━━━━━━━━━━━━━━━━━━━\u001b[0m\u001b[37m\u001b[0m \u001b[1m57s\u001b[0m 3s/step - categorical_accuracy: 0.7024 - loss: 0.7618 - val_categorical_accuracy: 0.7300 - val_loss: 0.7042 - learning_rate: 0.0010\n",
      "Epoch 13/20\n",
      "\u001b[1m21/21\u001b[0m \u001b[32m━━━━━━━━━━━━━━━━━━━━\u001b[0m\u001b[37m\u001b[0m \u001b[1m0s\u001b[0m 3s/step - categorical_accuracy: 0.7248 - loss: 0.6997\n",
      "Epoch 13: saving model to models/model_init_2024-05-01-22_43_38.297768/model-00013-0.69864-0.71644-0.67165-0.71000.keras\n",
      "\u001b[1m21/21\u001b[0m \u001b[32m━━━━━━━━━━━━━━━━━━━━\u001b[0m\u001b[37m\u001b[0m \u001b[1m56s\u001b[0m 3s/step - categorical_accuracy: 0.7244 - loss: 0.6996 - val_categorical_accuracy: 0.7100 - val_loss: 0.6716 - learning_rate: 0.0010\n",
      "Epoch 14/20\n",
      "\u001b[1m21/21\u001b[0m \u001b[32m━━━━━━━━━━━━━━━━━━━━\u001b[0m\u001b[37m\u001b[0m \u001b[1m0s\u001b[0m 3s/step - categorical_accuracy: 0.7682 - loss: 0.5731\n",
      "Epoch 14: saving model to models/model_init_2024-05-01-22_43_38.297768/model-00014-0.60446-0.74962-0.64341-0.76000.keras\n",
      "\u001b[1m21/21\u001b[0m \u001b[32m━━━━━━━━━━━━━━━━━━━━\u001b[0m\u001b[37m\u001b[0m \u001b[1m55s\u001b[0m 3s/step - categorical_accuracy: 0.7673 - loss: 0.5745 - val_categorical_accuracy: 0.7600 - val_loss: 0.6434 - learning_rate: 0.0010\n",
      "Epoch 15/20\n",
      "\u001b[1m21/21\u001b[0m \u001b[32m━━━━━━━━━━━━━━━━━━━━\u001b[0m\u001b[37m\u001b[0m \u001b[1m0s\u001b[0m 3s/step - categorical_accuracy: 0.8023 - loss: 0.5541\n",
      "Epoch 15: saving model to models/model_init_2024-05-01-22_43_38.297768/model-00015-0.60636-0.76320-0.79254-0.69000.keras\n",
      "\u001b[1m21/21\u001b[0m \u001b[32m━━━━━━━━━━━━━━━━━━━━\u001b[0m\u001b[37m\u001b[0m \u001b[1m55s\u001b[0m 3s/step - categorical_accuracy: 0.8006 - loss: 0.5565 - val_categorical_accuracy: 0.6900 - val_loss: 0.7925 - learning_rate: 0.0010\n",
      "Epoch 16/20\n",
      "\u001b[1m21/21\u001b[0m \u001b[32m━━━━━━━━━━━━━━━━━━━━\u001b[0m\u001b[37m\u001b[0m \u001b[1m0s\u001b[0m 3s/step - categorical_accuracy: 0.7146 - loss: 0.6954\n",
      "Epoch 16: saving model to models/model_init_2024-05-01-22_43_38.297768/model-00016-0.66850-0.73756-0.66472-0.74000.keras\n",
      "\u001b[1m21/21\u001b[0m \u001b[32m━━━━━━━━━━━━━━━━━━━━\u001b[0m\u001b[37m\u001b[0m \u001b[1m54s\u001b[0m 3s/step - categorical_accuracy: 0.7156 - loss: 0.6941 - val_categorical_accuracy: 0.7400 - val_loss: 0.6647 - learning_rate: 0.0010\n",
      "Epoch 17/20\n",
      "\u001b[1m21/21\u001b[0m \u001b[32m━━━━━━━━━━━━━━━━━━━━\u001b[0m\u001b[37m\u001b[0m \u001b[1m0s\u001b[0m 3s/step - categorical_accuracy: 0.7721 - loss: 0.5265\n",
      "Epoch 17: saving model to models/model_init_2024-05-01-22_43_38.297768/model-00017-0.51548-0.78582-0.64199-0.78000.keras\n",
      "\u001b[1m21/21\u001b[0m \u001b[32m━━━━━━━━━━━━━━━━━━━━\u001b[0m\u001b[37m\u001b[0m \u001b[1m56s\u001b[0m 3s/step - categorical_accuracy: 0.7727 - loss: 0.5260 - val_categorical_accuracy: 0.7800 - val_loss: 0.6420 - learning_rate: 0.0010\n",
      "Epoch 18/20\n",
      "\u001b[1m21/21\u001b[0m \u001b[32m━━━━━━━━━━━━━━━━━━━━\u001b[0m\u001b[37m\u001b[0m \u001b[1m0s\u001b[0m 3s/step - categorical_accuracy: 0.8211 - loss: 0.4137\n",
      "Epoch 18: saving model to models/model_init_2024-05-01-22_43_38.297768/model-00018-0.46712-0.80241-0.65987-0.77000.keras\n",
      "\u001b[1m21/21\u001b[0m \u001b[32m━━━━━━━━━━━━━━━━━━━━\u001b[0m\u001b[37m\u001b[0m \u001b[1m56s\u001b[0m 3s/step - categorical_accuracy: 0.8202 - loss: 0.4161 - val_categorical_accuracy: 0.7700 - val_loss: 0.6599 - learning_rate: 0.0010\n",
      "Epoch 19/20\n",
      "\u001b[1m21/21\u001b[0m \u001b[32m━━━━━━━━━━━━━━━━━━━━\u001b[0m\u001b[37m\u001b[0m \u001b[1m0s\u001b[0m 3s/step - categorical_accuracy: 0.8061 - loss: 0.4585\n",
      "Epoch 19: saving model to models/model_init_2024-05-01-22_43_38.297768/model-00019-0.43484-0.81297-0.49801-0.83000.keras\n"
     ]
    },
    {
     "name": "stdout",
     "output_type": "stream",
     "text": [
      "\u001b[1m21/21\u001b[0m \u001b[32m━━━━━━━━━━━━━━━━━━━━\u001b[0m\u001b[37m\u001b[0m \u001b[1m57s\u001b[0m 3s/step - categorical_accuracy: 0.8064 - loss: 0.4574 - val_categorical_accuracy: 0.8300 - val_loss: 0.4980 - learning_rate: 0.0010\n",
      "Epoch 20/20\n",
      "\u001b[1m21/21\u001b[0m \u001b[32m━━━━━━━━━━━━━━━━━━━━\u001b[0m\u001b[37m\u001b[0m \u001b[1m0s\u001b[0m 3s/step - categorical_accuracy: 0.8578 - loss: 0.3656\n",
      "Epoch 20: saving model to models/model_init_2024-05-01-22_43_38.297768/model-00020-0.38311-0.85520-0.49797-0.82000.keras\n",
      "\u001b[1m21/21\u001b[0m \u001b[32m━━━━━━━━━━━━━━━━━━━━\u001b[0m\u001b[37m\u001b[0m \u001b[1m55s\u001b[0m 3s/step - categorical_accuracy: 0.8576 - loss: 0.3664 - val_categorical_accuracy: 0.8200 - val_loss: 0.4980 - learning_rate: 0.0010\n"
     ]
    }
   ],
   "source": [
    "history = model.fit(train_generator,\n",
    "                    steps_per_epoch=steps_per_epoch,\n",
    "                    epochs=num_epochs,\n",
    "                    verbose=1, \n",
    "                    callbacks=callbacks_list,\n",
    "                    validation_data=val_generator, \n",
    "                    validation_steps=validation_steps,\n",
    "                    class_weight=None,\n",
    "                    initial_epoch=0)"
   ]
  },
  {
   "cell_type": "code",
   "execution_count": 98,
   "metadata": {},
   "outputs": [
    {
     "data": {
      "image/png": "[encoded data removed]",
      "text/plain": [
       "<Figure size 1500x400 with 2 Axes>"
      ]
     },
     "metadata": {},
     "output_type": "display_data"
    },
    {
     "name": "stdout",
     "output_type": "stream",
     "text": [
      "Training Accuracy: 0.8552\n",
      "Validation Accuracy: 0.8200\n"
     ]
    }
   ],
   "source": [
    "plotModelHistory(history)"
   ]
  },
  {
   "cell_type": "code",
   "execution_count": null,
   "metadata": {},
   "outputs": [],
   "source": []
  },
  {
   "cell_type": "markdown",
   "metadata": {},
   "source": [
    "### Conclusion\n",
    "\n",
    "##### We found that the Conv3D model built in experiment #8 is the best with `Training Accuracy = 0.8552 & Validation Accuracy = 0.8200 and total parameters = 480,517 (1.83 MB)`"
   ]
  },
  {
   "cell_type": "code",
   "execution_count": null,
   "metadata": {},
   "outputs": [],
   "source": []
  },
  {
   "cell_type": "code",
   "execution_count": null,
   "metadata": {},
   "outputs": [],
   "source": []
  }
 ],
 "metadata": {
  "kernelspec": {
   "display_name": "Python 3 (ipykernel)",
   "language": "python",
   "name": "python3"
  },
  "language_info": {
   "codemirror_mode": {
    "name": "ipython",
    "version": 3
   },
   "file_extension": ".py",
   "mimetype": "text/x-python",
   "name": "python",
   "nbconvert_exporter": "python",
   "pygments_lexer": "ipython3",
   "version": "3.11.5"
  }
 },
 "nbformat": 4,
 "nbformat_minor": 2
}
